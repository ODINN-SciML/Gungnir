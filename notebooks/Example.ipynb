{
 "cells": [
  {
   "cell_type": "markdown",
   "id": "9a07d691-b06f-4d74-ac10-c17d8e816684",
   "metadata": {},
   "source": [
    "# Example of how to Preprocess OGGM Data"
   ]
  },
  {
   "cell_type": "code",
   "execution_count": 1,
   "id": "dfbb473c-d41a-4d21-8a53-2dd08bd6df7d",
   "metadata": {},
   "outputs": [],
   "source": [
    "import gungnir as gn"
   ]
  },
  {
   "cell_type": "markdown",
   "id": "0ac64795-caf8-40d0-8acb-3cb670c4be34",
   "metadata": {},
   "source": [
    "We can process individual glaciers. Exploration of Glacier data is done with OGGM (see [working with rgi tutorial](https://tutorials.oggm.org/stable/notebooks/tutorials/working_with_rgi.html)).\n",
    "As there explained, we can find an individual glacier using the [GLIMS glacier viewer](https://www.glims.org/maps/glims).\n"
   ]
  },
  {
   "cell_type": "code",
   "execution_count": 2,
   "id": "8a1f6b12-c08c-419c-8468-4fb6ded2d1c0",
   "metadata": {},
   "outputs": [
    {
     "name": "stderr",
     "output_type": "stream",
     "text": [
      "2025-02-12 10:25:38: oggm.cfg: Reading default parameters from the OGGM `params.cfg` configuration file.\n",
      "2025-02-12 10:25:38: oggm.cfg: Multiprocessing switched OFF according to the parameter file.\n",
      "2025-02-12 10:25:38: oggm.cfg: Multiprocessing: using all available processors (N=11)\n",
      "2025-02-12 10:25:38: oggm.utils: Checking the download verification file checksum...\n"
     ]
    },
    {
     "name": "stdout",
     "output_type": "stream",
     "text": [
      "Working directory: /Users/sapienza/.ODINN/ODINN_prepro\n"
     ]
    },
    {
     "name": "stderr",
     "output_type": "stream",
     "text": [
      "2025-02-12 10:25:40: oggm.cfg: Multiprocessing switched ON after user settings.\n",
      "2025-02-12 10:25:40: oggm.cfg: PARAMS['border'] changed from `80` to `10`.\n",
      "2025-02-12 10:25:40: oggm.cfg: PARAMS['hydro_month_nh'] changed from `10` to `1`.\n",
      "2025-02-12 10:25:40: oggm.cfg: PARAMS['continue_on_error'] changed from `False` to `True`.\n",
      "2025-02-12 10:25:40: oggm.workflow: init_glacier_directories from prepro level 2 on 1 glaciers.\n",
      "2025-02-12 10:25:40: oggm.workflow: Execute entity tasks [gdir_from_prepro] on 1 glaciers\n",
      "2025-02-12 10:25:41: oggm.workflow: Execute entity tasks [gridded_attributes] on 1 glaciers\n",
      "2025-02-12 10:25:41: oggm.core.gis: (RGI60-11.03646) gridded_attributes\n",
      "2025-02-12 10:25:41: oggm.workflow: Execute entity tasks [glacier_masks] on 1 glaciers\n",
      "2025-02-12 10:25:41: oggm.core.gis: (RGI60-11.03646) glacier_masks\n",
      "2025-02-12 10:25:41: oggm.workflow: Execute entity tasks [add_consensus_thickness] on 1 glaciers\n",
      "2025-02-12 10:25:41: oggm.shop.bedtopo: (RGI60-11.03646) add_consensus_thickness\n",
      "2025-02-12 10:25:41: oggm.utils: Downloading https://cluster.klima.uni-bremen.de/~fmaussion/icevol/composite/RGI60-11/RGI60-11.03646_thickness.tif to /Users/sapienza/OGGM/download_cache/cluster.klima.uni-bremen.de/~fmaussion/icevol/composite/RGI60-11/RGI60-11.03646_thickness.tif...\n",
      "\u001b[38;2;0;255;0m100%\u001b[39m of 186.1 KiB |######################| Elapsed Time: 0:00:00 Time:  0:00:0000\n",
      "2025-02-12 10:25:42: oggm.workflow: Execute entity tasks [thickness_to_gdir] on 1 glaciers\n",
      "2025-02-12 10:25:42: oggm.shop.millan22: (RGI60-11.03646) thickness_to_gdir\n",
      "2025-02-12 10:25:42: oggm.workflow: Execute entity tasks [velocity_to_gdir] on 1 glaciers\n",
      "2025-02-12 10:25:42: oggm.shop.millan22: (RGI60-11.03646) velocity_to_gdir\n",
      "2025-02-12 10:25:43: oggm.workflow: Execute entity tasks [glathida_to_gdir] on 1 glaciers\n",
      "2025-02-12 10:25:43: oggm.shop.glathida: (RGI60-11.03646) glathida_to_gdir\n",
      "2025-02-12 10:25:43: MBsandbox.mbmod_daily_oneflowline: (RGI60-11.03646) process_w5e5_data\n",
      "2025-02-12 10:25:43: oggm.utils: Applying global task compile_task_log on 1 glaciers\n"
     ]
    },
    {
     "name": "stdout",
     "output_type": "stream",
     "text": [
      "dem path:  /Users/sapienza/.ODINN/ODINN_prepro/per_glacier/RGI60-11/RGI60-11.03/RGI60-11.03646/dem.tif\n"
     ]
    }
   ],
   "source": [
    "working_dir = \"/Users/sapienza/.ODINN/ODINN_prepro\"\n",
    "\n",
    "# Bossons\n",
    "gn.preprocessing_glaciers([\"RGI60-11.03646\"], working_dir=working_dir) "
   ]
  },
  {
   "cell_type": "code",
   "execution_count": null,
   "id": "4484e16a-805e-48a2-8275-9cd7f009f55b",
   "metadata": {},
   "outputs": [],
   "source": []
  }
 ],
 "metadata": {
  "kernelspec": {
   "display_name": "Python Gungnir",
   "language": "python",
   "name": "oggm_env_gungnir"
  },
  "language_info": {
   "codemirror_mode": {
    "name": "ipython",
    "version": 3
   },
   "file_extension": ".py",
   "mimetype": "text/x-python",
   "name": "python",
   "nbconvert_exporter": "python",
   "pygments_lexer": "ipython3",
   "version": "3.11.11"
  }
 },
 "nbformat": 4,
 "nbformat_minor": 5
}
